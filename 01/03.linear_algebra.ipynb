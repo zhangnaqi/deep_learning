{
 "cells": [
  {
   "cell_type": "markdown",
   "source": [
    "# 线性代数\n",
    "## 标量\n",
    "标量：只有一个元素的张量"
   ],
   "metadata": {
    "collapsed": false
   },
   "id": "21801c07f2631301"
  },
  {
   "cell_type": "code",
   "execution_count": 1,
   "id": "initial_id",
   "metadata": {
    "collapsed": true,
    "ExecuteTime": {
     "end_time": "2024-08-04T12:45:28.254972Z",
     "start_time": "2024-08-04T12:45:25.280770Z"
    }
   },
   "outputs": [],
   "source": [
    "import torch"
   ]
  },
  {
   "cell_type": "code",
   "outputs": [
    {
     "data": {
      "text/plain": "(tensor(5.), tensor(6.), tensor(1.5000), tensor(9.))"
     },
     "execution_count": 2,
     "metadata": {},
     "output_type": "execute_result"
    }
   ],
   "source": [
    "x = torch.tensor(3.0)\n",
    "y = torch.tensor(2.0)\n",
    "x + y, x * y, x / y, x ** y"
   ],
   "metadata": {
    "collapsed": false,
    "ExecuteTime": {
     "end_time": "2024-08-04T12:45:47.980410Z",
     "start_time": "2024-08-04T12:45:47.953525Z"
    }
   },
   "id": "2eb67c8a2c8eb806",
   "execution_count": 2
  },
  {
   "cell_type": "markdown",
   "source": [
    "## 向量\n",
    "向量：一维张量（标量组成的列表）"
   ],
   "metadata": {
    "collapsed": false
   },
   "id": "f954dd70b1f0dd53"
  },
  {
   "cell_type": "code",
   "outputs": [
    {
     "data": {
      "text/plain": "tensor([0, 1, 2, 3])"
     },
     "execution_count": 3,
     "metadata": {},
     "output_type": "execute_result"
    }
   ],
   "source": [
    "x = torch.arange(4)\n",
    "x"
   ],
   "metadata": {
    "collapsed": false,
    "ExecuteTime": {
     "end_time": "2024-08-04T12:47:16.094333Z",
     "start_time": "2024-08-04T12:47:16.069369Z"
    }
   },
   "id": "72c9d41c9a8008b",
   "execution_count": 3
  },
  {
   "cell_type": "markdown",
   "source": [
    "通过下标读取向量的元素"
   ],
   "metadata": {
    "collapsed": false
   },
   "id": "ef4053cced36544"
  },
  {
   "cell_type": "code",
   "outputs": [
    {
     "data": {
      "text/plain": "tensor(3)"
     },
     "execution_count": 4,
     "metadata": {},
     "output_type": "execute_result"
    }
   ],
   "source": [
    "x[3]"
   ],
   "metadata": {
    "collapsed": false,
    "ExecuteTime": {
     "end_time": "2024-08-04T12:48:29.144541Z",
     "start_time": "2024-08-04T12:48:29.119833Z"
    }
   },
   "id": "975e792dd2aea581",
   "execution_count": 4
  },
  {
   "cell_type": "markdown",
   "source": [
    "## 长度、维度和形状\n",
    "向量是数字数组，数组具有长度，向量同理，通过`len()`获取向量的长度"
   ],
   "metadata": {
    "collapsed": false
   },
   "id": "7fca3bbae34da204"
  },
  {
   "cell_type": "code",
   "outputs": [
    {
     "data": {
      "text/plain": "4"
     },
     "execution_count": 5,
     "metadata": {},
     "output_type": "execute_result"
    }
   ],
   "source": [
    "len(x)"
   ],
   "metadata": {
    "collapsed": false,
    "ExecuteTime": {
     "end_time": "2024-08-04T12:49:45.143002Z",
     "start_time": "2024-08-04T12:49:45.126352Z"
    }
   },
   "id": "c7858331f8395782",
   "execution_count": 5
  },
  {
   "cell_type": "markdown",
   "source": [
    "当用张量表示向量时，可以通过`x.shape`获取向量的形状。\n",
    "**形状**：列出了张量每个轴的长度（**维度**）。\n",
    "对于只有一个轴的张量，形状只有一个元素。"
   ],
   "metadata": {
    "collapsed": false
   },
   "id": "a1ec95592bf65ced"
  },
  {
   "cell_type": "code",
   "outputs": [
    {
     "data": {
      "text/plain": "torch.Size([4])"
     },
     "execution_count": 6,
     "metadata": {},
     "output_type": "execute_result"
    }
   ],
   "source": [
    "x.shape"
   ],
   "metadata": {
    "collapsed": false,
    "ExecuteTime": {
     "end_time": "2024-08-04T12:52:37.273109Z",
     "start_time": "2024-08-04T12:52:37.262104Z"
    }
   },
   "id": "3940111c42731f8a",
   "execution_count": 6
  },
  {
   "cell_type": "markdown",
   "source": [
    "## 矩阵\n",
    "矩阵：二维张量（具有两个轴的张量）\n",
    "方阵：矩阵的行数等于列数"
   ],
   "metadata": {
    "collapsed": false
   },
   "id": "7eb5ac0fae548451"
  },
  {
   "cell_type": "code",
   "outputs": [
    {
     "data": {
      "text/plain": "tensor([[ 0,  1,  2,  3],\n        [ 4,  5,  6,  7],\n        [ 8,  9, 10, 11],\n        [12, 13, 14, 15],\n        [16, 17, 18, 19]])"
     },
     "execution_count": 7,
     "metadata": {},
     "output_type": "execute_result"
    }
   ],
   "source": [
    "a = torch.arange(20).reshape(5, 4)\n",
    "a"
   ],
   "metadata": {
    "collapsed": false,
    "ExecuteTime": {
     "end_time": "2024-08-04T12:55:32.723040Z",
     "start_time": "2024-08-04T12:55:32.701399Z"
    }
   },
   "id": "fa7e46046f536a37",
   "execution_count": 7
  },
  {
   "cell_type": "markdown",
   "source": [
    "使用下标获取矩阵中的元素"
   ],
   "metadata": {
    "collapsed": false
   },
   "id": "f6629722c32191d9"
  },
  {
   "cell_type": "code",
   "outputs": [
    {
     "data": {
      "text/plain": "tensor(1)"
     },
     "execution_count": 8,
     "metadata": {},
     "output_type": "execute_result"
    }
   ],
   "source": [
    "a[0,1]"
   ],
   "metadata": {
    "collapsed": false,
    "ExecuteTime": {
     "end_time": "2024-08-04T12:56:45.597352Z",
     "start_time": "2024-08-04T12:56:45.586192Z"
    }
   },
   "id": "d7c46a2f213ea595",
   "execution_count": 8
  },
  {
   "cell_type": "markdown",
   "source": [
    "转置：`a.T` 以从左上到右下的对角线 顺序交换矩阵的行和列"
   ],
   "metadata": {
    "collapsed": false
   },
   "id": "bdd78c28f972848d"
  },
  {
   "cell_type": "code",
   "outputs": [
    {
     "data": {
      "text/plain": "tensor([[ 0,  4,  8, 12, 16],\n        [ 1,  5,  9, 13, 17],\n        [ 2,  6, 10, 14, 18],\n        [ 3,  7, 11, 15, 19]])"
     },
     "execution_count": 9,
     "metadata": {},
     "output_type": "execute_result"
    }
   ],
   "source": [
    "a.T"
   ],
   "metadata": {
    "collapsed": false,
    "ExecuteTime": {
     "end_time": "2024-08-04T12:58:38.292918Z",
     "start_time": "2024-08-04T12:58:38.267987Z"
    }
   },
   "id": "abc3e902ae771659",
   "execution_count": 9
  },
  {
   "cell_type": "markdown",
   "source": [
    "**对称矩阵**：\n",
    "* 前置条件：方阵（方阵的特殊类型）\n",
    "* 定义：a的转置等于a本身。"
   ],
   "metadata": {
    "collapsed": false
   },
   "id": "9bf11cbb581b2256"
  },
  {
   "cell_type": "code",
   "outputs": [
    {
     "name": "stdout",
     "output_type": "stream",
     "text": [
      "tensor([[1, 2, 3],\n",
      "        [2, 0, 4],\n",
      "        [3, 4, 5]])\n"
     ]
    },
    {
     "data": {
      "text/plain": "tensor([[True, True, True],\n        [True, True, True],\n        [True, True, True]])"
     },
     "execution_count": 10,
     "metadata": {},
     "output_type": "execute_result"
    }
   ],
   "source": [
    "b = torch.tensor([[1, 2, 3], [2, 0, 4], [3, 4, 5]])\n",
    "print(b)\n",
    "b.T == b"
   ],
   "metadata": {
    "collapsed": false,
    "ExecuteTime": {
     "end_time": "2024-08-04T13:00:49.767269Z",
     "start_time": "2024-08-04T13:00:49.743161Z"
    }
   },
   "id": "6615a79051733944",
   "execution_count": 10
  },
  {
   "cell_type": "markdown",
   "source": [
    "## 张量\n",
    "张量：多维数组"
   ],
   "metadata": {
    "collapsed": false
   },
   "id": "984b2df80d2be360"
  },
  {
   "cell_type": "code",
   "outputs": [
    {
     "data": {
      "text/plain": "tensor([[[ 0,  1,  2,  3],\n         [ 4,  5,  6,  7],\n         [ 8,  9, 10, 11]],\n\n        [[12, 13, 14, 15],\n         [16, 17, 18, 19],\n         [20, 21, 22, 23]]])"
     },
     "execution_count": 12,
     "metadata": {},
     "output_type": "execute_result"
    }
   ],
   "source": [
    "x = torch.arange(24).reshape(2, 3, 4)\n",
    "x"
   ],
   "metadata": {
    "collapsed": false,
    "ExecuteTime": {
     "end_time": "2024-08-04T13:03:16.717128Z",
     "start_time": "2024-08-04T13:03:16.691583Z"
    }
   },
   "id": "28df1cd55d5e518c",
   "execution_count": 12
  },
  {
   "cell_type": "markdown",
   "source": [
    "## 张量算法的本质性质\n",
    "两个相同的张量（维度相同的数组）。任何二元运算的结果都是相同形状的张量。"
   ],
   "metadata": {
    "collapsed": false
   },
   "id": "aa9d6ebdb021a97c"
  },
  {
   "cell_type": "code",
   "outputs": [
    {
     "data": {
      "text/plain": "(tensor([[ 0.,  1.,  2.,  3.],\n         [ 4.,  5.,  6.,  7.],\n         [ 8.,  9., 10., 11.],\n         [12., 13., 14., 15.],\n         [16., 17., 18., 19.]]),\n tensor([[ 0.,  2.,  4.,  6.],\n         [ 8., 10., 12., 14.],\n         [16., 18., 20., 22.],\n         [24., 26., 28., 30.],\n         [32., 34., 36., 38.]]))"
     },
     "execution_count": 23,
     "metadata": {},
     "output_type": "execute_result"
    }
   ],
   "source": [
    "a = torch.arange(20, dtype=torch.float32).reshape(5, 4)\n",
    "b = a.clone()\n",
    "a, a + b"
   ],
   "metadata": {
    "collapsed": false,
    "ExecuteTime": {
     "end_time": "2024-08-04T13:15:49.941094Z",
     "start_time": "2024-08-04T13:15:49.925103Z"
    }
   },
   "id": "5b38f81404ff4152",
   "execution_count": 23
  },
  {
   "cell_type": "code",
   "outputs": [
    {
     "data": {
      "text/plain": "tensor([[  0.,   1.,   4.,   9.],\n        [ 16.,  25.,  36.,  49.],\n        [ 64.,  81., 100., 121.],\n        [144., 169., 196., 225.],\n        [256., 289., 324., 361.]])"
     },
     "execution_count": 14,
     "metadata": {},
     "output_type": "execute_result"
    }
   ],
   "source": [
    "a*b"
   ],
   "metadata": {
    "collapsed": false,
    "ExecuteTime": {
     "end_time": "2024-08-04T13:06:18.018291Z",
     "start_time": "2024-08-04T13:06:18.000338Z"
    }
   },
   "id": "718b9539705abfa8",
   "execution_count": 14
  },
  {
   "cell_type": "markdown",
   "source": [
    "将张量乘以或加上一个标量不会改变张量的形状，其中张量的每个元素都将与标量相加或相乘。"
   ],
   "metadata": {
    "collapsed": false
   },
   "id": "93af3610b9cbfb89"
  },
  {
   "cell_type": "code",
   "outputs": [
    {
     "data": {
      "text/plain": "(tensor([[[ 2,  3,  4,  5],\n          [ 6,  7,  8,  9],\n          [10, 11, 12, 13]],\n \n         [[14, 15, 16, 17],\n          [18, 19, 20, 21],\n          [22, 23, 24, 25]]]),\n tensor([[[ 0,  2,  4,  6],\n          [ 8, 10, 12, 14],\n          [16, 18, 20, 22]],\n \n         [[24, 26, 28, 30],\n          [32, 34, 36, 38],\n          [40, 42, 44, 46]]]),\n torch.Size([2, 3, 4]),\n tensor([[[  2,   1,   0,  -1],\n          [ -2,  -3,  -4,  -5],\n          [ -6,  -7,  -8,  -9]],\n \n         [[-10, -11, -12, -13],\n          [-14, -15, -16, -17],\n          [-18, -19, -20, -21]]]),\n tensor([[[   inf, 2.0000, 1.0000, 0.6667],\n          [0.5000, 0.4000, 0.3333, 0.2857],\n          [0.2500, 0.2222, 0.2000, 0.1818]],\n \n         [[0.1667, 0.1538, 0.1429, 0.1333],\n          [0.1250, 0.1176, 0.1111, 0.1053],\n          [0.1000, 0.0952, 0.0909, 0.0870]]]),\n tensor([[[      1,       2,       4,       8],\n          [     16,      32,      64,     128],\n          [    256,     512,    1024,    2048]],\n \n         [[   4096,    8192,   16384,   32768],\n          [  65536,  131072,  262144,  524288],\n          [1048576, 2097152, 4194304, 8388608]]]))"
     },
     "execution_count": 21,
     "metadata": {},
     "output_type": "execute_result"
    }
   ],
   "source": [
    "z = 2\n",
    "x = torch.arange(24).reshape(2, 3, 4)\n",
    "z + x, z * x, (z * x).shape, z - x, z / x, z ** x"
   ],
   "metadata": {
    "collapsed": false,
    "ExecuteTime": {
     "end_time": "2024-08-04T13:15:41.861780Z",
     "start_time": "2024-08-04T13:15:41.825357Z"
    }
   },
   "id": "315e1615b7d71b13",
   "execution_count": 21
  },
  {
   "cell_type": "markdown",
   "source": [
    "## 降维\n",
    "计算张量的和：把张量中所有的元素相加。\n",
    "降为的体现在于 当前张量为5行4列的数组 当求和后 就变为了标量。"
   ],
   "metadata": {
    "collapsed": false
   },
   "id": "ee1cb5b4044c5c6d"
  },
  {
   "cell_type": "code",
   "outputs": [
    {
     "data": {
      "text/plain": "(tensor([0., 1., 2., 3.]), tensor(6.))"
     },
     "execution_count": 44,
     "metadata": {},
     "output_type": "execute_result"
    }
   ],
   "source": [
    "x = torch.arange(4, dtype=torch.float32)\n",
    "x, x.sum()"
   ],
   "metadata": {
    "collapsed": false,
    "ExecuteTime": {
     "end_time": "2024-08-04T13:48:30.412943Z",
     "start_time": "2024-08-04T13:48:30.398959Z"
    }
   },
   "id": "b5cf13c194ab650f",
   "execution_count": 44
  },
  {
   "cell_type": "code",
   "outputs": [
    {
     "data": {
      "text/plain": "(torch.Size([5, 4]), tensor(190.))"
     },
     "execution_count": 24,
     "metadata": {},
     "output_type": "execute_result"
    }
   ],
   "source": [
    "a.shape, a.sum()"
   ],
   "metadata": {
    "collapsed": false,
    "ExecuteTime": {
     "end_time": "2024-08-04T13:15:53.544411Z",
     "start_time": "2024-08-04T13:15:53.530449Z"
    }
   },
   "id": "7c8251a904aeb54a",
   "execution_count": 24
  },
  {
   "cell_type": "markdown",
   "source": [
    "上边提到 张量 降为 标量\n",
    "下面可以指定`axios`属性，降为指定轴的向量。"
   ],
   "metadata": {
    "collapsed": false
   },
   "id": "82b35699a2ccc554"
  },
  {
   "cell_type": "code",
   "outputs": [
    {
     "data": {
      "text/plain": "(tensor([[ 0.,  1.,  2.,  3.],\n         [ 4.,  5.,  6.,  7.],\n         [ 8.,  9., 10., 11.],\n         [12., 13., 14., 15.],\n         [16., 17., 18., 19.]]),\n tensor([40., 45., 50., 55.]),\n torch.Size([4]))"
     },
     "execution_count": 26,
     "metadata": {},
     "output_type": "execute_result"
    }
   ],
   "source": [
    "a_sum0 = a.sum(axis=0)  # 将列元素相加\n",
    "a, a_sum0, a_sum0.shape"
   ],
   "metadata": {
    "collapsed": false,
    "ExecuteTime": {
     "end_time": "2024-08-04T13:21:42.718840Z",
     "start_time": "2024-08-04T13:21:42.702810Z"
    }
   },
   "id": "954d54dcf62ebd4f",
   "execution_count": 26
  },
  {
   "cell_type": "code",
   "outputs": [
    {
     "data": {
      "text/plain": "(tensor([[ 0.,  1.,  2.,  3.],\n         [ 4.,  5.,  6.,  7.],\n         [ 8.,  9., 10., 11.],\n         [12., 13., 14., 15.],\n         [16., 17., 18., 19.]]),\n tensor([ 6., 22., 38., 54., 70.]),\n torch.Size([5]))"
     },
     "execution_count": 27,
     "metadata": {},
     "output_type": "execute_result"
    }
   ],
   "source": [
    "a_sum1 = a.sum(axis=1) # 将行元素相加\n",
    "a, a_sum1, a_sum1.shape"
   ],
   "metadata": {
    "collapsed": false,
    "ExecuteTime": {
     "end_time": "2024-08-04T13:22:18.249582Z",
     "start_time": "2024-08-04T13:22:18.233622Z"
    }
   },
   "id": "4fcca9e90ec395d7",
   "execution_count": 27
  },
  {
   "cell_type": "markdown",
   "source": [
    "沿着行和列对张量求和 == 张量求和"
   ],
   "metadata": {
    "collapsed": false
   },
   "id": "e430b73e19ff21ad"
  },
  {
   "cell_type": "code",
   "outputs": [
    {
     "data": {
      "text/plain": "tensor(190.)"
     },
     "execution_count": 28,
     "metadata": {},
     "output_type": "execute_result"
    }
   ],
   "source": [
    "a.sum(axis=[0, 1])"
   ],
   "metadata": {
    "collapsed": false,
    "ExecuteTime": {
     "end_time": "2024-08-04T13:25:11.641410Z",
     "start_time": "2024-08-04T13:25:11.620782Z"
    }
   },
   "id": "39d2f9de82ce507b",
   "execution_count": 28
  },
  {
   "cell_type": "markdown",
   "source": [
    "平均值： `x.mean()` 等同于 `x.sum() / x.numel()` \n",
    "`x.numel()` 等于张量的元素总数。"
   ],
   "metadata": {
    "collapsed": false
   },
   "id": "5aa7d790341e4f42"
  },
  {
   "cell_type": "code",
   "outputs": [
    {
     "data": {
      "text/plain": "(tensor(9.5000), 20, tensor(9.5000))"
     },
     "execution_count": 30,
     "metadata": {},
     "output_type": "execute_result"
    }
   ],
   "source": [
    "a.mean(), a.numel(), a.sum() / a.numel()"
   ],
   "metadata": {
    "collapsed": false,
    "ExecuteTime": {
     "end_time": "2024-08-04T13:26:09.025690Z",
     "start_time": "2024-08-04T13:26:09.011729Z"
    }
   },
   "id": "af6b27f0ea7bc3f",
   "execution_count": 30
  },
  {
   "cell_type": "markdown",
   "source": [
    "计算平均值函数也可沿指定轴 降低张量的维度"
   ],
   "metadata": {
    "collapsed": false
   },
   "id": "9a671110406ce7f0"
  },
  {
   "cell_type": "code",
   "outputs": [
    {
     "data": {
      "text/plain": "(tensor([ 8.,  9., 10., 11.]),\n tensor([ 8.,  9., 10., 11.]),\n tensor([ 1.5000,  5.5000,  9.5000, 13.5000, 17.5000]),\n tensor([ 1.5000,  5.5000,  9.5000, 13.5000, 17.5000]))"
     },
     "execution_count": 32,
     "metadata": {},
     "output_type": "execute_result"
    }
   ],
   "source": [
    "# 列相加 / 列元素数量\n",
    "(a.mean(axis=0), a.sum(axis=0) / a.shape[0], \n",
    " # 行相加 / 行元素数量\n",
    " a.mean(axis=1), a.sum(axis=1) / a.shape[1])"
   ],
   "metadata": {
    "collapsed": false,
    "ExecuteTime": {
     "end_time": "2024-08-04T13:28:39.234426Z",
     "start_time": "2024-08-04T13:28:39.215210Z"
    }
   },
   "id": "6cbed0ed89336fae",
   "execution_count": 32
  },
  {
   "cell_type": "markdown",
   "source": [
    "## 非降为求和\n",
    "计算和操作不会导致张量降维。"
   ],
   "metadata": {
    "collapsed": false
   },
   "id": "77141a89d68fad31"
  },
  {
   "cell_type": "code",
   "outputs": [
    {
     "name": "stdout",
     "output_type": "stream",
     "text": [
      "tensor([ 6., 22., 38., 54., 70.])\n"
     ]
    },
    {
     "data": {
      "text/plain": "tensor([[ 6.],\n        [22.],\n        [38.],\n        [54.],\n        [70.]])"
     },
     "execution_count": 34,
     "metadata": {},
     "output_type": "execute_result"
    }
   ],
   "source": [
    "print(a.sum(axis=1))\n",
    "sum_a = a.sum(axis=1, keepdims=True) # keepdims 保留张量原有的维度\n",
    "sum_a"
   ],
   "metadata": {
    "collapsed": false,
    "ExecuteTime": {
     "end_time": "2024-08-04T13:38:08.393233Z",
     "start_time": "2024-08-04T13:38:08.362320Z"
    }
   },
   "id": "c72ee7e6554d954a",
   "execution_count": 34
  },
  {
   "cell_type": "markdown",
   "source": [
    "以广播的形式 a / sum_a 不会对 a 进行降为"
   ],
   "metadata": {
    "collapsed": false
   },
   "id": "78424f0a3c42908c"
  },
  {
   "cell_type": "code",
   "outputs": [
    {
     "data": {
      "text/plain": "tensor([[0.0000, 0.1667, 0.3333, 0.5000],\n        [0.1818, 0.2273, 0.2727, 0.3182],\n        [0.2105, 0.2368, 0.2632, 0.2895],\n        [0.2222, 0.2407, 0.2593, 0.2778],\n        [0.2286, 0.2429, 0.2571, 0.2714]])"
     },
     "execution_count": 35,
     "metadata": {},
     "output_type": "execute_result"
    }
   ],
   "source": [
    "a / sum_a"
   ],
   "metadata": {
    "collapsed": false,
    "ExecuteTime": {
     "end_time": "2024-08-04T13:38:55.497350Z",
     "start_time": "2024-08-04T13:38:55.482234Z"
    }
   },
   "id": "f11fb2c4897bccd0",
   "execution_count": 35
  },
  {
   "cell_type": "markdown",
   "source": [
    "沿行或列累积总和，不降低张量维度， 可以使用`cumsum`函数。"
   ],
   "metadata": {
    "collapsed": false
   },
   "id": "cd8cd9b70d500fba"
  },
  {
   "cell_type": "code",
   "outputs": [
    {
     "data": {
      "text/plain": "(tensor([[ 0.,  1.,  2.,  3.],\n         [ 4.,  5.,  6.,  7.],\n         [ 8.,  9., 10., 11.],\n         [12., 13., 14., 15.],\n         [16., 17., 18., 19.]]),\n tensor([[ 0.,  1.,  2.,  3.],\n         [ 4.,  6.,  8., 10.],\n         [12., 15., 18., 21.],\n         [24., 28., 32., 36.],\n         [40., 45., 50., 55.]]))"
     },
     "execution_count": 41,
     "metadata": {},
     "output_type": "execute_result"
    }
   ],
   "source": [
    "a, a.cumsum(axis=0)"
   ],
   "metadata": {
    "collapsed": false,
    "ExecuteTime": {
     "end_time": "2024-08-04T13:42:02.038Z",
     "start_time": "2024-08-04T13:42:02.016103Z"
    }
   },
   "id": "d2d687abeddc70e1",
   "execution_count": 41
  },
  {
   "cell_type": "markdown",
   "source": [
    "## 点积\n",
    "相同位置的元素相乘，然后求和。"
   ],
   "metadata": {
    "collapsed": false
   },
   "id": "ec9244de4281188d"
  },
  {
   "cell_type": "code",
   "outputs": [
    {
     "data": {
      "text/plain": "(tensor([0., 1., 2., 3.]), tensor([1., 1., 1., 1.]), tensor(6.))"
     },
     "execution_count": 45,
     "metadata": {},
     "output_type": "execute_result"
    }
   ],
   "source": [
    "y = torch.ones(4, dtype=torch.float32)\n",
    "x, y, torch.dot(x, y)"
   ],
   "metadata": {
    "collapsed": false,
    "ExecuteTime": {
     "end_time": "2024-08-04T13:48:36.885191Z",
     "start_time": "2024-08-04T13:48:36.864689Z"
    }
   },
   "id": "af80494caf83998a",
   "execution_count": 45
  },
  {
   "cell_type": "code",
   "outputs": [
    {
     "data": {
      "text/plain": "tensor(6.)"
     },
     "execution_count": 46,
     "metadata": {},
     "output_type": "execute_result"
    }
   ],
   "source": [
    "torch.sum(x * y) # 向量相乘 后 相加 = 点积"
   ],
   "metadata": {
    "collapsed": false,
    "ExecuteTime": {
     "end_time": "2024-08-04T13:48:58.524583Z",
     "start_time": "2024-08-04T13:48:58.501832Z"
    }
   },
   "id": "5f9bae2c0b43448",
   "execution_count": 46
  },
  {
   "cell_type": "markdown",
   "source": [
    "## 矩阵--向量积\n",
    "保证矩阵的行数等于向量的长度。一一对应相乘后相加。"
   ],
   "metadata": {
    "collapsed": false
   },
   "id": "170bf2ddb8c70201"
  },
  {
   "cell_type": "code",
   "outputs": [
    {
     "data": {
      "text/plain": "(tensor([[ 0.,  1.,  2.,  3.],\n         [ 4.,  5.,  6.,  7.],\n         [ 8.,  9., 10., 11.],\n         [12., 13., 14., 15.],\n         [16., 17., 18., 19.]]),\n tensor([0., 1., 2., 3.]),\n tensor([ 14.,  38.,  62.,  86., 110.]))"
     },
     "execution_count": 47,
     "metadata": {},
     "output_type": "execute_result"
    }
   ],
   "source": [
    "a, x, torch.mv(a, x)"
   ],
   "metadata": {
    "collapsed": false,
    "ExecuteTime": {
     "end_time": "2024-08-04T13:51:45.947536Z",
     "start_time": "2024-08-04T13:51:45.928116Z"
    }
   },
   "id": "b3e864018e1c8bec",
   "execution_count": 47
  },
  {
   "cell_type": "markdown",
   "source": [
    "## 矩阵 -- 矩阵乘法\n",
    "张量a的行的和乘以张量b的列相加。"
   ],
   "metadata": {
    "collapsed": false
   },
   "id": "ce6ff6aaa773cc68"
  },
  {
   "cell_type": "code",
   "outputs": [
    {
     "data": {
      "text/plain": "(tensor([[ 0.,  1.,  2.,  3.],\n         [ 4.,  5.,  6.,  7.],\n         [ 8.,  9., 10., 11.],\n         [12., 13., 14., 15.],\n         [16., 17., 18., 19.]]),\n tensor([[1., 1., 1.],\n         [1., 1., 1.],\n         [1., 1., 1.],\n         [1., 1., 1.]]),\n tensor([[ 6.,  6.,  6.],\n         [22., 22., 22.],\n         [38., 38., 38.],\n         [54., 54., 54.],\n         [70., 70., 70.]]))"
     },
     "execution_count": 51,
     "metadata": {},
     "output_type": "execute_result"
    }
   ],
   "source": [
    "'''\n",
    "[[ 6*1,  6*1,  6*1],(0 + 1 + 2 + 3 = 6)\n",
    " [22*1, 22*1, 22*1],(4 + 5 + 6 + 7 = 22)\n",
    " [38*1, 38*1, 38*1],\n",
    " [54*1, 54*1, 54*1],\n",
    " [70*1, 70*1, 70*1]]\n",
    "'''\n",
    "b = torch.ones(4, 3)\n",
    "(a, b, torch.mm(a, b))"
   ],
   "metadata": {
    "collapsed": false,
    "ExecuteTime": {
     "end_time": "2024-08-04T13:56:35.310624Z",
     "start_time": "2024-08-04T13:56:35.291175Z"
    }
   },
   "id": "fdab59306765a931",
   "execution_count": 51
  },
  {
   "cell_type": "markdown",
   "source": [
    "## 范数\n",
    "L2范数：平方和开方"
   ],
   "metadata": {
    "collapsed": false
   },
   "id": "6715a968c7b72beb"
  },
  {
   "cell_type": "code",
   "outputs": [
    {
     "data": {
      "text/plain": "tensor(5.)"
     },
     "execution_count": 52,
     "metadata": {},
     "output_type": "execute_result"
    }
   ],
   "source": [
    "u = torch.tensor([3.0, -4.0])\n",
    "torch.norm(u)"
   ],
   "metadata": {
    "collapsed": false,
    "ExecuteTime": {
     "end_time": "2024-08-04T14:16:51.214252Z",
     "start_time": "2024-08-04T14:16:51.189313Z"
    }
   },
   "id": "7e4162382ad0d14a",
   "execution_count": 52
  },
  {
   "cell_type": "markdown",
   "source": [
    "L1范数：绝对值之和"
   ],
   "metadata": {
    "collapsed": false
   },
   "id": "bbb3b8dba2d2548e"
  },
  {
   "cell_type": "code",
   "outputs": [
    {
     "data": {
      "text/plain": "tensor(7.)"
     },
     "execution_count": 53,
     "metadata": {},
     "output_type": "execute_result"
    }
   ],
   "source": [
    "torch.abs(u).sum()"
   ],
   "metadata": {
    "collapsed": false,
    "ExecuteTime": {
     "end_time": "2024-08-04T14:17:39.562638Z",
     "start_time": "2024-08-04T14:17:39.541729Z"
    }
   },
   "id": "a96e9ac3a72bbeed",
   "execution_count": 53
  },
  {
   "cell_type": "markdown",
   "source": [
    "Lp范数: p次方之和开方"
   ],
   "metadata": {
    "collapsed": false
   },
   "id": "f9dc3a3bb6298516"
  },
  {
   "cell_type": "code",
   "outputs": [
    {
     "name": "stdout",
     "output_type": "stream",
     "text": [
      "tensor([[1., 1., 1., 1., 1., 1., 1., 1., 1.],\n",
      "        [1., 1., 1., 1., 1., 1., 1., 1., 1.],\n",
      "        [1., 1., 1., 1., 1., 1., 1., 1., 1.],\n",
      "        [1., 1., 1., 1., 1., 1., 1., 1., 1.]])\n"
     ]
    },
    {
     "data": {
      "text/plain": "tensor(6.)"
     },
     "execution_count": 55,
     "metadata": {},
     "output_type": "execute_result"
    }
   ],
   "source": [
    "print(torch.ones((4, 9)))\n",
    "'''\n",
    "√9 = 3\n",
    "[[3,3,3,3]]\n",
    "9*4=36\n",
    "√36 = 6\n",
    "'''\n",
    "torch.norm(torch.ones((4, 9)))"
   ],
   "metadata": {
    "collapsed": false,
    "ExecuteTime": {
     "end_time": "2024-08-04T14:20:52.923632Z",
     "start_time": "2024-08-04T14:20:52.900720Z"
    }
   },
   "id": "e9472e4f6d3c9d7a",
   "execution_count": 55
  },
  {
   "cell_type": "code",
   "outputs": [
    {
     "data": {
      "text/plain": "tensor(8.)"
     },
     "execution_count": 57,
     "metadata": {},
     "output_type": "execute_result"
    }
   ],
   "source": [
    "torch.norm(torch.tensor([[2.0,2,2,2],[2,2,2,2],[2,2,2,2],[2,2,2,2]]))"
   ],
   "metadata": {
    "collapsed": false,
    "ExecuteTime": {
     "end_time": "2024-08-04T14:28:11.538669Z",
     "start_time": "2024-08-04T14:28:11.521201Z"
    }
   },
   "id": "1f92f60f69833778",
   "execution_count": 57
  },
  {
   "cell_type": "markdown",
   "source": [
    "## 范数和目标\n",
    "没看懂"
   ],
   "metadata": {
    "collapsed": false
   },
   "id": "403b98071ac79586"
  },
  {
   "cell_type": "code",
   "outputs": [],
   "source": [],
   "metadata": {
    "collapsed": false
   },
   "id": "ccdcb5bf06d55af4"
  },
  {
   "cell_type": "code",
   "outputs": [],
   "source": [],
   "metadata": {
    "collapsed": false
   },
   "id": "f7bafd76aaae50e3"
  }
 ],
 "metadata": {
  "kernelspec": {
   "display_name": "Python 3",
   "language": "python",
   "name": "python3"
  },
  "language_info": {
   "codemirror_mode": {
    "name": "ipython",
    "version": 2
   },
   "file_extension": ".py",
   "mimetype": "text/x-python",
   "name": "python",
   "nbconvert_exporter": "python",
   "pygments_lexer": "ipython2",
   "version": "2.7.6"
  }
 },
 "nbformat": 4,
 "nbformat_minor": 5
}
