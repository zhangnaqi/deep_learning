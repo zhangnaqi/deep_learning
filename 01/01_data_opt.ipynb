{
 "cells": [
  {
   "cell_type": "markdown",
   "source": [
    "# 数据操作"
   ],
   "metadata": {
    "collapsed": false
   },
   "id": "37ac06be96455bc0"
  },
  {
   "cell_type": "code",
   "outputs": [],
   "source": [
    "import torch"
   ],
   "metadata": {
    "collapsed": false,
    "ExecuteTime": {
     "end_time": "2024-08-04T07:54:52.873358Z",
     "start_time": "2024-08-04T07:54:37.331506Z"
    }
   },
   "id": "1863149b6e363d39",
   "execution_count": 2
  },
  {
   "cell_type": "markdown",
   "source": [
    "张量表示一个数值组成的数组，这个数组可能有多个维度"
   ],
   "metadata": {
    "collapsed": false
   },
   "id": "e89fa5ba36eea5b"
  },
  {
   "cell_type": "code",
   "outputs": [
    {
     "data": {
      "text/plain": "tensor([ 0,  1,  2,  3,  4,  5,  6,  7,  8,  9, 10, 11])"
     },
     "execution_count": 3,
     "metadata": {},
     "output_type": "execute_result"
    }
   ],
   "source": [
    "x = torch.arange(12)\n",
    "x"
   ],
   "metadata": {
    "collapsed": false,
    "ExecuteTime": {
     "end_time": "2024-08-04T07:55:11.785272Z",
     "start_time": "2024-08-04T07:55:11.753262Z"
    }
   },
   "id": "a3f0ed8fd9d93718",
   "execution_count": 3
  },
  {
   "cell_type": "markdown",
   "source": [
    "shape属性 --》 张量的形状和张量中的元素总数"
   ],
   "metadata": {
    "collapsed": false
   },
   "id": "bddd99337be29f66"
  },
  {
   "cell_type": "code",
   "outputs": [
    {
     "data": {
      "text/plain": "torch.Size([12])"
     },
     "execution_count": 6,
     "metadata": {},
     "output_type": "execute_result"
    }
   ],
   "source": [
    "x.shape"
   ],
   "metadata": {
    "collapsed": false,
    "ExecuteTime": {
     "end_time": "2024-08-04T07:58:19.915954Z",
     "start_time": "2024-08-04T07:58:19.899957Z"
    }
   },
   "id": "6ca98c24d6730018",
   "execution_count": 6
  },
  {
   "cell_type": "code",
   "outputs": [
    {
     "data": {
      "text/plain": "12"
     },
     "execution_count": 5,
     "metadata": {},
     "output_type": "execute_result"
    }
   ],
   "source": [
    "x.numel()"
   ],
   "metadata": {
    "collapsed": false,
    "ExecuteTime": {
     "end_time": "2024-08-04T07:57:23.882362Z",
     "start_time": "2024-08-04T07:57:23.862913Z"
    }
   },
   "id": "b1a380c4ab82c1fe",
   "execution_count": 5
  },
  {
   "cell_type": "markdown",
   "source": [
    "改变张量的形状而不改变元素数量和元素值 --》 reshape"
   ],
   "metadata": {
    "collapsed": false
   },
   "id": "4e0a4605b274058e"
  },
  {
   "cell_type": "code",
   "outputs": [
    {
     "data": {
      "text/plain": "tensor([[ 0,  1,  2,  3],\n        [ 4,  5,  6,  7],\n        [ 8,  9, 10, 11]])"
     },
     "execution_count": 7,
     "metadata": {},
     "output_type": "execute_result"
    }
   ],
   "source": [
    "x = x.reshape(3, 4)\n",
    "x"
   ],
   "metadata": {
    "collapsed": false,
    "ExecuteTime": {
     "end_time": "2024-08-04T07:59:35.573354Z",
     "start_time": "2024-08-04T07:59:35.551375Z"
    }
   },
   "id": "b0af5c4e8ad790f9",
   "execution_count": 7
  },
  {
   "cell_type": "markdown",
   "source": [
    "随机初始化参数值"
   ],
   "metadata": {
    "collapsed": false
   },
   "id": "7306453a28fc7ea8"
  },
  {
   "cell_type": "code",
   "outputs": [
    {
     "data": {
      "text/plain": "tensor([[ 0.1549,  0.3628, -0.4851, -0.9859],\n        [ 0.8086, -0.8177, -0.6345, -0.8965],\n        [ 0.7199,  0.6158, -1.4228, -0.5023]])"
     },
     "execution_count": 14,
     "metadata": {},
     "output_type": "execute_result"
    }
   ],
   "source": [
    "torch.randn(3, 4)"
   ],
   "metadata": {
    "collapsed": false,
    "ExecuteTime": {
     "end_time": "2024-08-04T09:38:25.735173Z",
     "start_time": "2024-08-04T09:38:25.716049Z"
    }
   },
   "id": "29fd1b466b1b7a1a",
   "execution_count": 14
  },
  {
   "cell_type": "markdown",
   "source": [
    "元素为全0或全1"
   ],
   "metadata": {
    "collapsed": false
   },
   "id": "34ef2f93b07669d0"
  },
  {
   "cell_type": "code",
   "outputs": [
    {
     "data": {
      "text/plain": "tensor([[[0., 0., 0., 0.],\n         [0., 0., 0., 0.],\n         [0., 0., 0., 0.]],\n\n        [[0., 0., 0., 0.],\n         [0., 0., 0., 0.],\n         [0., 0., 0., 0.]]])"
     },
     "execution_count": 8,
     "metadata": {},
     "output_type": "execute_result"
    }
   ],
   "source": [
    "torch.zeros((2, 3, 4))"
   ],
   "metadata": {
    "collapsed": false,
    "ExecuteTime": {
     "end_time": "2024-08-04T08:01:08.429026Z",
     "start_time": "2024-08-04T08:01:08.415202Z"
    }
   },
   "id": "79060f8af0b94d0a",
   "execution_count": 8
  },
  {
   "cell_type": "code",
   "outputs": [
    {
     "data": {
      "text/plain": "tensor([[[1., 1., 1., 1.],\n         [1., 1., 1., 1.],\n         [1., 1., 1., 1.]],\n\n        [[1., 1., 1., 1.],\n         [1., 1., 1., 1.],\n         [1., 1., 1., 1.]]])"
     },
     "execution_count": 9,
     "metadata": {},
     "output_type": "execute_result"
    }
   ],
   "source": [
    "torch.ones((2, 3, 4))"
   ],
   "metadata": {
    "collapsed": false,
    "ExecuteTime": {
     "end_time": "2024-08-04T08:01:15.367250Z",
     "start_time": "2024-08-04T08:01:15.347304Z"
    }
   },
   "id": "31a7c0a49833cc66",
   "execution_count": 9
  },
  {
   "cell_type": "markdown",
   "source": [
    "## 运算符\n",
    "**提供包含数值的python列表或嵌套列表，为张量中的每个元素进行赋值**\n",
    "shape属性展示的是每个中括号中包含的元素数量【对上面shape理解的一个补充】"
   ],
   "metadata": {
    "collapsed": false
   },
   "id": "e21ef0a25cfb90a5"
  },
  {
   "cell_type": "code",
   "outputs": [
    {
     "name": "stdout",
     "output_type": "stream",
     "text": [
      "tensor([[[ 1,  3,  4,  5],\n",
      "         [ 6,  7,  8,  9],\n",
      "         [10, 11, 12, 13]]])\n",
      "torch.Size([1, 3, 4])\n"
     ]
    }
   ],
   "source": [
    "test = torch.tensor([[[1, 3, 4, 5], [6, 7, 8, 9], [10, 11, 12, 13]]])\n",
    "print(test)\n",
    "print(test.shape)"
   ],
   "metadata": {
    "collapsed": false,
    "ExecuteTime": {
     "end_time": "2024-08-04T08:08:36.600833Z",
     "start_time": "2024-08-04T08:08:36.578944Z"
    }
   },
   "id": "75c7bfe6a06262b",
   "execution_count": 12
  },
  {
   "cell_type": "markdown",
   "source": [
    "标准运算符升级为按元素运算"
   ],
   "metadata": {
    "collapsed": false
   },
   "id": "59f3aac8b1cd7249"
  },
  {
   "cell_type": "code",
   "outputs": [
    {
     "data": {
      "text/plain": "(tensor([ 3.,  4.,  6., 10.]),\n tensor([-1.,  0.,  2.,  6.]),\n tensor([ 2.,  4.,  8., 16.]),\n tensor([0.5000, 1.0000, 2.0000, 4.0000]),\n tensor([ 1.,  4., 16., 64.]))"
     },
     "execution_count": 13,
     "metadata": {},
     "output_type": "execute_result"
    }
   ],
   "source": [
    "x = torch.tensor([1.0, 2, 4, 8])\n",
    "y = torch.tensor([2, 2, 2, 2])\n",
    "x + y, x - y, x * y, x / y, x ** y"
   ],
   "metadata": {
    "collapsed": false,
    "ExecuteTime": {
     "end_time": "2024-08-04T09:36:31.251659Z",
     "start_time": "2024-08-04T09:36:31.219504Z"
    }
   },
   "id": "fe4c4f6d5c13f4a4",
   "execution_count": 13
  },
  {
   "cell_type": "markdown",
   "source": [
    "计算每个元素的指数值"
   ],
   "metadata": {
    "collapsed": false
   },
   "id": "8569aee1ededcc4b"
  },
  {
   "cell_type": "code",
   "outputs": [
    {
     "data": {
      "text/plain": "tensor([2.7183e+00, 7.3891e+00, 5.4598e+01, 2.9810e+03])"
     },
     "execution_count": 16,
     "metadata": {},
     "output_type": "execute_result"
    }
   ],
   "source": [
    "torch.exp(x)"
   ],
   "metadata": {
    "collapsed": false,
    "ExecuteTime": {
     "end_time": "2024-08-04T09:45:34.655443Z",
     "start_time": "2024-08-04T09:45:34.636945Z"
    }
   },
   "id": "57574fc8ad955c7e",
   "execution_count": 16
  },
  {
   "cell_type": "markdown",
   "source": [
    "将两个张量连结在一起"
   ],
   "metadata": {
    "collapsed": false
   },
   "id": "3009c814f02c068e"
  },
  {
   "cell_type": "code",
   "outputs": [
    {
     "data": {
      "text/plain": "(tensor([[ 0.,  1.,  2.,  3.],\n         [ 4.,  5.,  6.,  7.],\n         [ 8.,  9., 10., 11.],\n         [ 2.,  1.,  4.,  3.],\n         [ 1.,  2.,  3.,  4.],\n         [ 4.,  3.,  2.,  1.]]),\n tensor([[ 0.,  1.,  2.,  3.,  2.,  1.,  4.,  3.],\n         [ 4.,  5.,  6.,  7.,  1.,  2.,  3.,  4.],\n         [ 8.,  9., 10., 11.,  4.,  3.,  2.,  1.]]))"
     },
     "execution_count": 17,
     "metadata": {},
     "output_type": "execute_result"
    }
   ],
   "source": [
    "x = torch.arange(12, dtype=torch.float32).reshape(3, 4)\n",
    "y = torch.tensor([[2.0, 1, 4, 3], [1, 2, 3, 4], [4, 3, 2, 1]])\n",
    "torch.cat((x, y), dim=0), torch.cat((x, y), dim=1)"
   ],
   "metadata": {
    "collapsed": false,
    "ExecuteTime": {
     "end_time": "2024-08-04T09:46:55.499731Z",
     "start_time": "2024-08-04T09:46:55.483769Z"
    }
   },
   "id": "14f47befc135389b",
   "execution_count": 17
  },
  {
   "cell_type": "markdown",
   "source": [
    "比较两个张量之间的元素是否相等"
   ],
   "metadata": {
    "collapsed": false
   },
   "id": "c3e15af6c4f727d2"
  },
  {
   "cell_type": "code",
   "outputs": [
    {
     "data": {
      "text/plain": "tensor([[False,  True, False,  True],\n        [False, False, False, False],\n        [False, False, False, False]])"
     },
     "execution_count": 18,
     "metadata": {},
     "output_type": "execute_result"
    }
   ],
   "source": [
    "x == y"
   ],
   "metadata": {
    "collapsed": false,
    "ExecuteTime": {
     "end_time": "2024-08-04T09:47:20.665807Z",
     "start_time": "2024-08-04T09:47:20.651842Z"
    }
   },
   "id": "663d2535ce27b03b",
   "execution_count": 18
  },
  {
   "cell_type": "markdown",
   "source": [
    "计算张量的和"
   ],
   "metadata": {
    "collapsed": false
   },
   "id": "13f97ecbb00a354f"
  },
  {
   "cell_type": "code",
   "outputs": [
    {
     "data": {
      "text/plain": "tensor(66.)"
     },
     "execution_count": 19,
     "metadata": {},
     "output_type": "execute_result"
    }
   ],
   "source": [
    "x.sum()"
   ],
   "metadata": {
    "collapsed": false,
    "ExecuteTime": {
     "end_time": "2024-08-04T09:48:09.303338Z",
     "start_time": "2024-08-04T09:48:09.284223Z"
    }
   },
   "id": "2c1ca8f4cf6ebc9a",
   "execution_count": 19
  },
  {
   "cell_type": "markdown",
   "source": [
    "## 广播机制\n",
    "在某些情况下，即使张量形状不同，仍可以通过广播机制来进行运算"
   ],
   "metadata": {
    "collapsed": false
   },
   "id": "7dd60cc99aeb3fad"
  },
  {
   "cell_type": "code",
   "outputs": [
    {
     "data": {
      "text/plain": "(tensor([[0],\n         [1],\n         [2]]),\n tensor([[0, 1]]))"
     },
     "execution_count": 20,
     "metadata": {},
     "output_type": "execute_result"
    }
   ],
   "source": [
    "a = torch.arange(3).reshape((3, 1))\n",
    "b = torch.arange(2).reshape((1, 2))\n",
    "a, b"
   ],
   "metadata": {
    "collapsed": false,
    "ExecuteTime": {
     "end_time": "2024-08-04T09:50:31.350772Z",
     "start_time": "2024-08-04T09:50:31.328791Z"
    }
   },
   "id": "f86bd6f63646d373",
   "execution_count": 20
  },
  {
   "cell_type": "code",
   "outputs": [
    {
     "data": {
      "text/plain": "tensor([[0, 1],\n        [1, 2],\n        [2, 3]])"
     },
     "execution_count": 21,
     "metadata": {},
     "output_type": "execute_result"
    }
   ],
   "source": [
    "a + b"
   ],
   "metadata": {
    "collapsed": false,
    "ExecuteTime": {
     "end_time": "2024-08-04T09:50:35.175543Z",
     "start_time": "2024-08-04T09:50:35.159641Z"
    }
   },
   "id": "794bce0ff7bde10b",
   "execution_count": 21
  },
  {
   "cell_type": "markdown",
   "source": [
    "## 索引和切片\n",
    "和python数组一样：第一个元素索引为0，最后一个元素索引为-1.\n",
    "切片： `[-1]`访问最后一个元素 `[1:3]`访问第二个和第三个元素"
   ],
   "metadata": {
    "collapsed": false
   },
   "id": "3904b0731bec3087"
  },
  {
   "cell_type": "code",
   "outputs": [
    {
     "data": {
      "text/plain": "(tensor([ 8.,  9., 10., 11.]),\n tensor([[ 4.,  5.,  6.,  7.],\n         [ 8.,  9., 10., 11.]]))"
     },
     "execution_count": 22,
     "metadata": {},
     "output_type": "execute_result"
    }
   ],
   "source": [
    "x[-1], x[1:3]"
   ],
   "metadata": {
    "collapsed": false,
    "ExecuteTime": {
     "end_time": "2024-08-04T09:51:44.528525Z",
     "start_time": "2024-08-04T09:51:44.510738Z"
    }
   },
   "id": "fbaec6e1d956a35f",
   "execution_count": 22
  },
  {
   "cell_type": "markdown",
   "source": [
    "可以通过指定的索引将元素写入矩阵"
   ],
   "metadata": {
    "collapsed": false
   },
   "id": "d2fcab34f9c0ef78"
  },
  {
   "cell_type": "code",
   "outputs": [
    {
     "data": {
      "text/plain": "tensor([[ 0.,  1.,  2.,  3.],\n        [ 4.,  5.,  9.,  7.],\n        [ 8.,  9., 10., 11.]])"
     },
     "execution_count": 23,
     "metadata": {},
     "output_type": "execute_result"
    }
   ],
   "source": [
    "x[1, 2] = 9\n",
    "x"
   ],
   "metadata": {
    "collapsed": false,
    "ExecuteTime": {
     "end_time": "2024-08-04T09:55:36.266115Z",
     "start_time": "2024-08-04T09:55:36.232102Z"
    }
   },
   "id": "791452dacdcdf39",
   "execution_count": 23
  },
  {
   "cell_type": "markdown",
   "source": [
    "元素批量替换"
   ],
   "metadata": {
    "collapsed": false
   },
   "id": "8fa2319dae6d569d"
  },
  {
   "cell_type": "code",
   "outputs": [
    {
     "data": {
      "text/plain": "tensor([[12., 12., 12., 12.],\n        [12., 12., 12., 12.],\n        [ 8.,  9., 10., 11.]])"
     },
     "execution_count": 24,
     "metadata": {},
     "output_type": "execute_result"
    }
   ],
   "source": [
    "x[0:2, :] = 12\n",
    "x"
   ],
   "metadata": {
    "collapsed": false,
    "ExecuteTime": {
     "end_time": "2024-08-04T09:59:13.914708Z",
     "start_time": "2024-08-04T09:59:13.894760Z"
    }
   },
   "id": "7217e9e89dfe5ada",
   "execution_count": 24
  },
  {
   "cell_type": "markdown",
   "source": [
    "## 节省内存\n",
    "创建一个和原张量形状相同的新张量，并赋值给原张量"
   ],
   "metadata": {
    "collapsed": false
   },
   "id": "274f434f4a0544a5"
  },
  {
   "cell_type": "code",
   "outputs": [
    {
     "data": {
      "text/plain": "False"
     },
     "execution_count": 25,
     "metadata": {},
     "output_type": "execute_result"
    }
   ],
   "source": [
    "before = id(y)\n",
    "y = y + x\n",
    "id(y) == before"
   ],
   "metadata": {
    "collapsed": false,
    "ExecuteTime": {
     "end_time": "2024-08-04T10:00:44.416003Z",
     "start_time": "2024-08-04T10:00:44.393859Z"
    }
   },
   "id": "cbed7bfa5de23217",
   "execution_count": 25
  },
  {
   "cell_type": "code",
   "outputs": [
    {
     "name": "stdout",
     "output_type": "stream",
     "text": [
      "id(z) 1656152037392\n",
      "id(z) 1656152037392\n"
     ]
    }
   ],
   "source": [
    "z = torch.zeros_like(y)\n",
    "print('id(z)', id(z))\n",
    "z[:] = x + y\n",
    "print('id(z)', id(z))"
   ],
   "metadata": {
    "collapsed": false,
    "ExecuteTime": {
     "end_time": "2024-08-04T10:01:33.631299Z",
     "start_time": "2024-08-04T10:01:33.621456Z"
    }
   },
   "id": "5663aca71c2171e5",
   "execution_count": 26
  },
  {
   "cell_type": "markdown",
   "source": [
    "如果后续操作不需要用到x，可以直接覆盖x来减少内存开销"
   ],
   "metadata": {
    "collapsed": false
   },
   "id": "f93762917b90dc52"
  },
  {
   "cell_type": "code",
   "outputs": [
    {
     "data": {
      "text/plain": "True"
     },
     "execution_count": 27,
     "metadata": {},
     "output_type": "execute_result"
    }
   ],
   "source": [
    "before = id(x)\n",
    "x += y\n",
    "id(x) == before"
   ],
   "metadata": {
    "collapsed": false,
    "ExecuteTime": {
     "end_time": "2024-08-04T10:02:13.350170Z",
     "start_time": "2024-08-04T10:02:13.340906Z"
    }
   },
   "id": "4973c36d7488bbf0",
   "execution_count": 27
  },
  {
   "cell_type": "markdown",
   "source": [
    "## 转换为其他python对象\n",
    "将 张量 转换为 Numpy张量"
   ],
   "metadata": {
    "collapsed": false
   },
   "id": "a3e65bbc927763ca"
  },
  {
   "cell_type": "code",
   "outputs": [
    {
     "data": {
      "text/plain": "(numpy.ndarray, torch.Tensor)"
     },
     "execution_count": 28,
     "metadata": {},
     "output_type": "execute_result"
    }
   ],
   "source": [
    "a = x.numpy()\n",
    "b = torch.tensor(a)\n",
    "type(a), type(b)"
   ],
   "metadata": {
    "collapsed": false,
    "ExecuteTime": {
     "end_time": "2024-08-04T10:04:03.287677Z",
     "start_time": "2024-08-04T10:04:03.277703Z"
    }
   },
   "id": "ecfcee44ede183af",
   "execution_count": 28
  },
  {
   "cell_type": "markdown",
   "source": [
    "要将大小为1的张量转换为python的标量"
   ],
   "metadata": {
    "collapsed": false
   },
   "id": "9e09c4076b62d8af"
  },
  {
   "cell_type": "code",
   "outputs": [
    {
     "data": {
      "text/plain": "(tensor([3.5000]), 3.5, 3.5, 3)"
     },
     "execution_count": 29,
     "metadata": {},
     "output_type": "execute_result"
    }
   ],
   "source": [
    "a = torch.tensor([3.5])\n",
    "a, a.item(), float(a), int(a)"
   ],
   "metadata": {
    "collapsed": false,
    "ExecuteTime": {
     "end_time": "2024-08-04T10:05:00.372327Z",
     "start_time": "2024-08-04T10:05:00.351425Z"
    }
   },
   "id": "da444206d5299892",
   "execution_count": 29
  },
  {
   "cell_type": "code",
   "outputs": [],
   "source": [],
   "metadata": {
    "collapsed": false
   },
   "id": "8beb7093d71f2ea2"
  }
 ],
 "metadata": {
  "kernelspec": {
   "display_name": "Python 3",
   "language": "python",
   "name": "python3"
  },
  "language_info": {
   "codemirror_mode": {
    "name": "ipython",
    "version": 2
   },
   "file_extension": ".py",
   "mimetype": "text/x-python",
   "name": "python",
   "nbconvert_exporter": "python",
   "pygments_lexer": "ipython2",
   "version": "2.7.6"
  }
 },
 "nbformat": 4,
 "nbformat_minor": 5
}
