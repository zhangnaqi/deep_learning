{
 "cells": [
  {
   "cell_type": "markdown",
   "source": [
    "# 数据预处理\n",
    "## 读取数据集"
   ],
   "metadata": {
    "collapsed": false
   },
   "id": "53e57b81b4bf6259"
  },
  {
   "cell_type": "code",
   "execution_count": 10,
   "id": "initial_id",
   "metadata": {
    "collapsed": true,
    "ExecuteTime": {
     "end_time": "2024-08-04T10:19:26.383491Z",
     "start_time": "2024-08-04T10:19:18.884400Z"
    }
   },
   "outputs": [],
   "source": [
    "import os\n",
    "import pandas as pd\n",
    "import torch"
   ]
  },
  {
   "cell_type": "markdown",
   "source": [
    "创建数据集"
   ],
   "metadata": {
    "collapsed": false
   },
   "id": "a3092a54bb0af177"
  },
  {
   "cell_type": "code",
   "outputs": [],
   "source": [
    "os.makedirs(os.path.join('.', 'data'), exist_ok=True)\n",
    "data_file = os.path.join('.', 'data', 'house_tiny.csv')\n",
    "with open(data_file, 'w') as f:\n",
    "    f.write('NumRooms,Alley,Price\\n')  # 列名\n",
    "    f.write('NA,Pave,127500\\n')  # 每行表示一个数据样本\n",
    "    f.write('2,NA,106000\\n')\n",
    "    f.write('4,NA,178100\\n')\n",
    "    f.write('NA,NA,140000')"
   ],
   "metadata": {
    "collapsed": false,
    "ExecuteTime": {
     "end_time": "2024-08-04T10:11:00.302017Z",
     "start_time": "2024-08-04T10:11:00.287963Z"
    }
   },
   "id": "ebae9c6d4b34fe05",
   "execution_count": 6
  },
  {
   "cell_type": "markdown",
   "source": [
    "读取数据集"
   ],
   "metadata": {
    "collapsed": false
   },
   "id": "be9f8bfb06d045e5"
  },
  {
   "cell_type": "code",
   "outputs": [
    {
     "name": "stdout",
     "output_type": "stream",
     "text": [
      "   NumRooms Alley   Price\n",
      "0       NaN  Pave  127500\n",
      "1       2.0   NaN  106000\n",
      "2       4.0   NaN  178100\n",
      "3       NaN   NaN  140000\n"
     ]
    }
   ],
   "source": [
    "data  = pd.read_csv(data_file)\n",
    "print(data)"
   ],
   "metadata": {
    "collapsed": false,
    "ExecuteTime": {
     "end_time": "2024-08-04T10:12:14.173601Z",
     "start_time": "2024-08-04T10:12:14.143653Z"
    }
   },
   "id": "3f72c2f6aefc056b",
   "execution_count": 8
  },
  {
   "cell_type": "markdown",
   "source": [
    "## 缺失值处理\n",
    "方法1：删除法\n",
    "方法2：插值法\n",
    "\n",
    "插值法的处理方式：通过位置索引iloc，将data分成inputs和outputs，对于inputs中缺失的值，用同一列的均值替换。\n",
    "对于对于像ouputs中的缺失值，转换为\"Alley_Pave\"列和\"Alley_nan\"并将其分别设置为1和0。"
   ],
   "metadata": {
    "collapsed": false
   },
   "id": "93e6f3a35c45dc28"
  },
  {
   "cell_type": "code",
   "outputs": [
    {
     "name": "stdout",
     "output_type": "stream",
     "text": [
      "0    127500\n",
      "1    106000\n",
      "2    178100\n",
      "3    140000\n",
      "Name: Price, dtype: int64\n",
      "   NumRooms  Alley_Pave  Alley_nan\n",
      "0       3.0           1          0\n",
      "1       2.0           0          1\n",
      "2       4.0           0          1\n",
      "3       3.0           0          1\n"
     ]
    }
   ],
   "source": [
    "inputs, outputs = data.iloc[:, 0:2], data.iloc[:, 2]\n",
    "print(outputs)\n",
    "inputs = inputs.fillna(inputs.mean())\n",
    "inputs = pd.get_dummies(inputs, dummy_na=True)\n",
    "print(inputs)\n"
   ],
   "metadata": {
    "collapsed": false,
    "ExecuteTime": {
     "end_time": "2024-08-04T10:23:01.504724Z",
     "start_time": "2024-08-04T10:23:01.467004Z"
    }
   },
   "id": "521d9a1c3ac5ea8f",
   "execution_count": 13
  },
  {
   "cell_type": "markdown",
   "source": [
    "## 张量格式转换\n",
    "inputs和outputs的值都是数值类型，可以转换为张量格式。"
   ],
   "metadata": {
    "collapsed": false
   },
   "id": "2377fa9fc2abc88e"
  },
  {
   "cell_type": "code",
   "outputs": [
    {
     "data": {
      "text/plain": "(tensor([[3., 1., 0.],\n         [2., 0., 1.],\n         [4., 0., 1.],\n         [3., 0., 1.]], dtype=torch.float64),\n tensor([127500., 106000., 178100., 140000.], dtype=torch.float64))"
     },
     "execution_count": 11,
     "metadata": {},
     "output_type": "execute_result"
    }
   ],
   "source": [
    "x = torch.tensor(inputs.to_numpy(dtype=float))\n",
    "y = torch.tensor(outputs.to_numpy(dtype=float))\n",
    "x, y"
   ],
   "metadata": {
    "collapsed": false,
    "ExecuteTime": {
     "end_time": "2024-08-04T10:19:53.783071Z",
     "start_time": "2024-08-04T10:19:53.756555Z"
    }
   },
   "id": "c5244c231c7f5de5",
   "execution_count": 11
  },
  {
   "cell_type": "code",
   "outputs": [],
   "source": [],
   "metadata": {
    "collapsed": false
   },
   "id": "cd66b012a27632a2"
  }
 ],
 "metadata": {
  "kernelspec": {
   "display_name": "Python 3",
   "language": "python",
   "name": "python3"
  },
  "language_info": {
   "codemirror_mode": {
    "name": "ipython",
    "version": 2
   },
   "file_extension": ".py",
   "mimetype": "text/x-python",
   "name": "python",
   "nbconvert_exporter": "python",
   "pygments_lexer": "ipython2",
   "version": "2.7.6"
  }
 },
 "nbformat": 4,
 "nbformat_minor": 5
}
